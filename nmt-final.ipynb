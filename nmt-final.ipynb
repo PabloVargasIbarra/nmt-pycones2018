{
 "cells": [
  {
   "cell_type": "code",
   "execution_count": 1,
   "metadata": {},
   "outputs": [
    {
     "name": "stderr",
     "output_type": "stream",
     "text": [
      "/home/pablo/anaconda3/lib/python3.6/site-packages/h5py/__init__.py:36: FutureWarning: Conversion of the second argument of issubdtype from `float` to `np.floating` is deprecated. In future, it will be treated as `np.float64 == np.dtype(float).type`.\n",
      "  from ._conv import register_converters as _register_converters\n",
      "Using TensorFlow backend.\n"
     ]
    }
   ],
   "source": [
    "from keras.layers import Bidirectional, Concatenate, Dot, Input, LSTM, RepeatVector, Dense, Activation\n",
    "from keras.optimizers import Adam\n",
    "from keras.activations import softmax\n",
    "from keras.utils import to_categorical\n",
    "from keras.models import load_model, Model\n",
    "import numpy as np\n",
    "import h5py\n",
    "import matplotlib.pyplot as plt\n",
    "from utils import string_to_int, int_to_string, plot_attention_map"
   ]
  },
  {
   "cell_type": "markdown",
   "metadata": {},
   "source": [
    "## 1 - Traducción de fechas a formato máquina"
   ]
  },
  {
   "cell_type": "markdown",
   "metadata": {},
   "source": [
    "El modelo que se va a contruir puede ser utilizado para traducir de un lenguaje a otro, por ejemplo del inglés a francés. Sin embargo, la traducción de texto involucra la utilización de conjuntos de datos muy grandes y un tiempo largo de computo incluso utilizando GPUs. Se va a simplificar la traducción a sólo fechas con el objetivo de poder experimentar en un ordenador convencional. <p> <p>\n",
    "La red tomará como input fechas escritas con diferentes formatos (ej: \"the 29th of August 1958\", \"9 mayo 1998\", \"1998-05-09\") y traducirlas a su formato máquina asociado (YYYY-MM-DD)\n",
    "    "
   ]
  },
  {
   "cell_type": "markdown",
   "metadata": {},
   "source": [
    "### 1.1 - Dataset"
   ]
  },
  {
   "cell_type": "markdown",
   "metadata": {},
   "source": [
    "Entrenaremos el modelo sobre un conjunto de datos con 20000 fechas sin formato definido a su equivalente en formato máquina. Aproximadamente 10000 están escritas en castellano y las otras 10000 en español."
   ]
  },
  {
   "cell_type": "markdown",
   "metadata": {},
   "source": [
    "Cargamos los siguientes datos ya calculados:\n",
    "- `dataset`: un array con  (fechas formato humano, fechas formato máquina)\n",
    "- `input_vocab`: diccionario en Python que mapea todos los caracteres del vocabulario humano a un valor entero\n",
    "- `output_vocab`: diccionario en Python que mapea todos los caracteres del vocabulario en formato fecha máquina a un valor entero\n",
    "- `inv_output_vocab`: el diccionario inverso a output_bocab\n",
    "- `X`: fechas en formato humano procesadas tal que cada caracter está mapeado al entero asociado en el vocabulario (input_vocab). Cada secuencia tiene una longitud aumentada con el caracter especial \"pad\" (#).\n",
    "- `Y`: fechas en formato humano procesadas de manera análoga utilizando su vocabulario (output_vocab). \n",
    "- `Xoh`: one-hot version de X.\n",
    "- `Yoh`: one-hot version de Y. "
   ]
  },
  {
   "cell_type": "code",
   "execution_count": 2,
   "metadata": {},
   "outputs": [
    {
     "name": "stdout",
     "output_type": "stream",
     "text": [
      "Primeros 5 ejemplos de entrenamiento:\n",
      "[['9 mayo 1998' '1998-05-09']\n",
      " ['10.09.70' '1970-09-10']\n",
      " ['4/28/90' '1990-04-28']\n",
      " ['jueves enero 26 1995' '1995-01-26']\n",
      " ['lunes marzo 7 1983' '1983-03-07']]\n"
     ]
    }
   ],
   "source": [
    "dataset = np.load('data/data.npy')\n",
    "print('Primeros 5 ejemplos de entrenamiento:')\n",
    "print(dataset[:5])\n",
    "X, Y = np.load('data/Xt.npy'), np.load('data/Yt.npy')"
   ]
  },
  {
   "cell_type": "code",
   "execution_count": 3,
   "metadata": {},
   "outputs": [
    {
     "name": "stdout",
     "output_type": "stream",
     "text": [
      "X.shape: (20000, 28)\n",
      "Y.shape: (20000, 10)\n",
      "Xoh.shape: (20000, 28, 38)\n",
      "Yoh.shape: (20000, 10, 11)\n"
     ]
    }
   ],
   "source": [
    "# Xoh, Yoh = np.load('data/Xoh.npy'), np.load('data/Yoh.npy')\n",
    "human_vocab = np.load('data/X_tok2idx.npy').item()\n",
    "machine_vocab = np.load('data/Y_tok2idx.npy').item()\n",
    "inv_machine_vocab = np.load('data/Y_idx2tok.npy').item()\n",
    "Xoh = to_categorical(X, len(human_vocab))\n",
    "Yoh = to_categorical(Y, len(machine_vocab))\n",
    "print(\"X.shape:\", X.shape)\n",
    "print(\"Y.shape:\", Y.shape)\n",
    "print(\"Xoh.shape:\", Xoh.shape)\n",
    "print(\"Yoh.shape:\", Yoh.shape)"
   ]
  },
  {
   "cell_type": "code",
   "execution_count": 4,
   "metadata": {},
   "outputs": [],
   "source": [
    "Tx = 28   # Tamaño de la secuencia de entrada\n",
    "Ty = 10   # Tamaño de la secuencia de salida\n",
    "m = 20000 # Número de ejemplos de entrenamiento"
   ]
  },
  {
   "cell_type": "markdown",
   "metadata": {},
   "source": [
    "## 1.2 Neural machine translation model with attention"
   ]
  },
  {
   "cell_type": "markdown",
   "metadata": {},
   "source": [
    "Supongamos que tenemos que traducir la secuencia, **\"jueves 26 de enero de 1995\"** a **\"1995-01-26\"**. Durante el proceso de lectura vamos enfocando la atención en partes de la secuencia de entrada para ir realizando la traducción en la secuencia de salida. El modelo que se implementa siguiente intenta simular este mecanismo de atención con la siguiente arquitectura de redes neuronales."
   ]
  },
  {
   "cell_type": "markdown",
   "metadata": {},
   "source": [
    "<table>\n",
    "<td> \n",
    "<img src=\"nmt-images/attn.png\" style=\"width:500;height:500px;\"> <br>\n",
    "</td> \n",
    "</table>\n",
    "<caption><center> Neural machine translation with attention</center></caption>"
   ]
  },
  {
   "cell_type": "markdown",
   "metadata": {},
   "source": [
    "Las ecuaciones que definen el mecanismo de atención son las siguientes:"
   ]
  },
  {
   "cell_type": "markdown",
   "metadata": {},
   "source": [
    "$$e^{<i,j>} = v_{a}^{T}\\tanh\\big({W_{a}s_{i-1} + U_{a}h_{j}}\\big)$$ <p>\n",
    "$$\\alpha^{<i,j>} = \\dfrac{exp(e^{<i,j>})}{\\sum_{k=1}^{T_x}exp(e^{<i,k>})}$$ \n",
    "$$context^{<i>} = \\sum_{j = 0}^{T_x} \\alpha^{<i,j>}h^{<j>}$$"
   ]
  },
  {
   "cell_type": "markdown",
   "metadata": {},
   "source": [
    "Bahdanau et al., 2015"
   ]
  },
  {
   "cell_type": "markdown",
   "metadata": {},
   "source": [
    "El contexto es una suma ponderada por los parámetros del modelo de atención de los \"hidden states\" de la bidireccional LSTM. Esto será el input de la LSTM final junto con el hidden, cell state de la anterior capa. Estos pesos deberán sumar uno y para ello utilizamos la función softmax propia siguiente:"
   ]
  },
  {
   "cell_type": "code",
   "execution_count": 5,
   "metadata": {},
   "outputs": [],
   "source": [
    "def softmax_attention(x, axis=1):\n",
    "    return softmax(x, axis=axis)"
   ]
  },
  {
   "cell_type": "markdown",
   "metadata": {},
   "source": [
    "Las operaciones que se realizan para calcular las variables e pueden verse como capas densas de redes neuronales sin el termino \"bias\". Además de que para cada output puede vectorizarse la operación concatenando $s_{i-1}, h_{j}$ <p> Los parámetros asociados al modelo de atención serán compartidos por todas las capas, para ello utilizamos las siguientes variables globales de Keras:"
   ]
  },
  {
   "cell_type": "code",
   "execution_count": 6,
   "metadata": {},
   "outputs": [],
   "source": [
    "repeator = RepeatVector(Tx, name='repeat_s') \n",
    "concatenator = Concatenate(axis=-1, name='concat_s_h')\n",
    "tanh_layer = Dense(10, activation = \"tanh\", use_bias=False, name='tanh_layer')\n",
    "v_layer = Dense(1, activation = \"linear\", use_bias=False, \n",
    "                kernel_initializer=\"zeros\", name='v_layer')\n",
    "softmax_layer = Activation(softmax_attention, name='attention_weights') \n",
    "context_layer = Dot(axes = 1, name='context_layer')"
   ]
  },
  {
   "cell_type": "code",
   "execution_count": 7,
   "metadata": {},
   "outputs": [],
   "source": [
    "def one_step_attention(h, s_prev):\n",
    "    \"\"\"\n",
    "    Performs one step of attention: Outputs a context vector computed as a dot product of the attention weights\n",
    "    \"alphas\" and the hidden states \"a\" of the Bi-LSTM.\n",
    "    \n",
    "    Arguments:\n",
    "    a -- hidden state output of the Bi-LSTM, numpy-array of shape (m, Tx, 2*n_a)\n",
    "    s_prev -- previous hidden state of the (post-attention) LSTM, numpy-array of shape (m, n_s)\n",
    "    \n",
    "    Returns:\n",
    "    context -- context vector, input of the next (post-attetion) LSTM cell\n",
    "    \"\"\"\n",
    "    \n",
    "    s_prev = repeator(s_prev)\n",
    "    concat = concatenator([h, s_prev])\n",
    "    e = v_layer(tanh_layer(concat))\n",
    "    alphas = softmax_layer(e)\n",
    "    context = context_layer([alphas, h])\n",
    "    \n",
    "    return context"
   ]
  },
  {
   "cell_type": "markdown",
   "metadata": {},
   "source": [
    "Definimos los siguientes hyperparámetros y las capas LSTM que también comparten parámetros en toda la secuencia."
   ]
  },
  {
   "cell_type": "code",
   "execution_count": 8,
   "metadata": {},
   "outputs": [],
   "source": [
    "n_h = 48 # Número de hidden units cada una de las dos pre-attention pertenecientes a la BiLSTM.\n",
    "n_s = 96   # Número de hidden units de la post-attention LSTM\n",
    "#pre_attention_BiLSTM_cell = Bidirectional(LSTM(n_h, return_sequences=True), input_shape=(m, Tx, 2*n_h), name='Bi-LSTM')\n",
    "pre_attention_BiLSTM_cell = Bidirectional(LSTM(n_h, return_sequences=True)) #, input_shape=(None, Tx, 38), name='Bi-LSTM')\n",
    "post_attention_LSTM_cell = LSTM(n_s, return_state = True, name='post-attention-LSTM')\n",
    "output_layer = Dense(len(machine_vocab), activation='softmax', name='softmax_output')"
   ]
  },
  {
   "cell_type": "code",
   "execution_count": 9,
   "metadata": {},
   "outputs": [],
   "source": [
    "def model(Tx, Ty, n_h, n_s, human_vocab_size, machine_vocab_size):\n",
    "    \"\"\"\n",
    "    Arguments:\n",
    "    Tx -- length of the input sequence\n",
    "    Ty -- length of the output sequence\n",
    "    n_a -- hidden state size of the Bi-LSTM\n",
    "    n_s -- hidden state size of the post-attention LSTM\n",
    "    human_vocab_size -- size of the python dictionary \"human_vocab\"\n",
    "    machine_vocab_size -- size of the python dictionary \"machine_vocab\"\n",
    "\n",
    "    Returns:\n",
    "    model -- Keras model instance\n",
    "    \"\"\"\n",
    "    \n",
    "    # Inputs que recibirá nuestro modelo.\n",
    "    X = Input(shape=(Tx, human_vocab_size), name='input_X')\n",
    "    s0 = Input(shape=(n_s,), name='s0')\n",
    "    c0 = Input(shape=(n_s,), name='c0')\n",
    "    s = s0\n",
    "    c = c0\n",
    "    \n",
    "    # Outputs del modelo\n",
    "    outputs = []\n",
    "        \n",
    "    # Primera capa que recibe como input el vector X,\n",
    "    h = pre_attention_BiLSTM_cell(X)\n",
    "    \n",
    "    # Iteramos sobre la secencia del output para calcular el contexto y el output.\n",
    "    for t in range(0, Ty):\n",
    "        \n",
    "        context = one_step_attention(h, s)\n",
    "        s, _, c = post_attention_LSTM_cell(context, initial_state=[s, c])\n",
    "        out = output_layer(s)\n",
    "        outputs.append(out)\n",
    "    \n",
    "    # Creamos el modelo pasandole como argumento los inputs y los outputs\n",
    "    model = Model(inputs=[X, s0, c0], outputs = outputs)\n",
    "    \n",
    "    return model"
   ]
  },
  {
   "cell_type": "markdown",
   "metadata": {},
   "source": [
    "Definimos el modelo y mostramos el resumen de cada una de las capas y sus dimensiones."
   ]
  },
  {
   "cell_type": "code",
   "execution_count": 10,
   "metadata": {
    "scrolled": false
   },
   "outputs": [
    {
     "name": "stdout",
     "output_type": "stream",
     "text": [
      "__________________________________________________________________________________________________\n",
      "Layer (type)                    Output Shape         Param #     Connected to                     \n",
      "==================================================================================================\n",
      "input_X (InputLayer)            (None, 28, 38)       0                                            \n",
      "__________________________________________________________________________________________________\n",
      "s0 (InputLayer)                 (None, 96)           0                                            \n",
      "__________________________________________________________________________________________________\n",
      "bidirectional_1 (Bidirectional) (None, 28, 96)       33408       input_X[0][0]                    \n",
      "__________________________________________________________________________________________________\n",
      "repeat_s (RepeatVector)         (None, 28, 96)       0           s0[0][0]                         \n",
      "                                                                 post-attention-LSTM[0][0]        \n",
      "                                                                 post-attention-LSTM[1][0]        \n",
      "                                                                 post-attention-LSTM[2][0]        \n",
      "                                                                 post-attention-LSTM[3][0]        \n",
      "                                                                 post-attention-LSTM[4][0]        \n",
      "                                                                 post-attention-LSTM[5][0]        \n",
      "                                                                 post-attention-LSTM[6][0]        \n",
      "                                                                 post-attention-LSTM[7][0]        \n",
      "                                                                 post-attention-LSTM[8][0]        \n",
      "__________________________________________________________________________________________________\n",
      "concat_s_h (Concatenate)        (None, 28, 192)      0           bidirectional_1[0][0]            \n",
      "                                                                 repeat_s[0][0]                   \n",
      "                                                                 bidirectional_1[0][0]            \n",
      "                                                                 repeat_s[1][0]                   \n",
      "                                                                 bidirectional_1[0][0]            \n",
      "                                                                 repeat_s[2][0]                   \n",
      "                                                                 bidirectional_1[0][0]            \n",
      "                                                                 repeat_s[3][0]                   \n",
      "                                                                 bidirectional_1[0][0]            \n",
      "                                                                 repeat_s[4][0]                   \n",
      "                                                                 bidirectional_1[0][0]            \n",
      "                                                                 repeat_s[5][0]                   \n",
      "                                                                 bidirectional_1[0][0]            \n",
      "                                                                 repeat_s[6][0]                   \n",
      "                                                                 bidirectional_1[0][0]            \n",
      "                                                                 repeat_s[7][0]                   \n",
      "                                                                 bidirectional_1[0][0]            \n",
      "                                                                 repeat_s[8][0]                   \n",
      "                                                                 bidirectional_1[0][0]            \n",
      "                                                                 repeat_s[9][0]                   \n",
      "__________________________________________________________________________________________________\n",
      "tanh_layer (Dense)              (None, 28, 10)       1920        concat_s_h[0][0]                 \n",
      "                                                                 concat_s_h[1][0]                 \n",
      "                                                                 concat_s_h[2][0]                 \n",
      "                                                                 concat_s_h[3][0]                 \n",
      "                                                                 concat_s_h[4][0]                 \n",
      "                                                                 concat_s_h[5][0]                 \n",
      "                                                                 concat_s_h[6][0]                 \n",
      "                                                                 concat_s_h[7][0]                 \n",
      "                                                                 concat_s_h[8][0]                 \n",
      "                                                                 concat_s_h[9][0]                 \n",
      "__________________________________________________________________________________________________\n",
      "v_layer (Dense)                 (None, 28, 1)        10          tanh_layer[0][0]                 \n",
      "                                                                 tanh_layer[1][0]                 \n",
      "                                                                 tanh_layer[2][0]                 \n",
      "                                                                 tanh_layer[3][0]                 \n",
      "                                                                 tanh_layer[4][0]                 \n",
      "                                                                 tanh_layer[5][0]                 \n",
      "                                                                 tanh_layer[6][0]                 \n",
      "                                                                 tanh_layer[7][0]                 \n",
      "                                                                 tanh_layer[8][0]                 \n",
      "                                                                 tanh_layer[9][0]                 \n",
      "__________________________________________________________________________________________________\n",
      "attention_weights (Activation)  (None, 28, 1)        0           v_layer[0][0]                    \n",
      "                                                                 v_layer[1][0]                    \n",
      "                                                                 v_layer[2][0]                    \n",
      "                                                                 v_layer[3][0]                    \n",
      "                                                                 v_layer[4][0]                    \n",
      "                                                                 v_layer[5][0]                    \n",
      "                                                                 v_layer[6][0]                    \n",
      "                                                                 v_layer[7][0]                    \n",
      "                                                                 v_layer[8][0]                    \n",
      "                                                                 v_layer[9][0]                    \n",
      "__________________________________________________________________________________________________\n",
      "context_layer (Dot)             (None, 1, 96)        0           attention_weights[0][0]          \n",
      "                                                                 bidirectional_1[0][0]            \n",
      "                                                                 attention_weights[1][0]          \n",
      "                                                                 bidirectional_1[0][0]            \n",
      "                                                                 attention_weights[2][0]          \n",
      "                                                                 bidirectional_1[0][0]            \n",
      "                                                                 attention_weights[3][0]          \n",
      "                                                                 bidirectional_1[0][0]            \n",
      "                                                                 attention_weights[4][0]          \n",
      "                                                                 bidirectional_1[0][0]            \n",
      "                                                                 attention_weights[5][0]          \n",
      "                                                                 bidirectional_1[0][0]            \n",
      "                                                                 attention_weights[6][0]          \n",
      "                                                                 bidirectional_1[0][0]            \n",
      "                                                                 attention_weights[7][0]          \n",
      "                                                                 bidirectional_1[0][0]            \n",
      "                                                                 attention_weights[8][0]          \n",
      "                                                                 bidirectional_1[0][0]            \n",
      "                                                                 attention_weights[9][0]          \n",
      "                                                                 bidirectional_1[0][0]            \n",
      "__________________________________________________________________________________________________\n",
      "c0 (InputLayer)                 (None, 96)           0                                            \n",
      "__________________________________________________________________________________________________\n",
      "post-attention-LSTM (LSTM)      [(None, 96), (None,  74112       context_layer[0][0]              \n",
      "                                                                 s0[0][0]                         \n",
      "                                                                 c0[0][0]                         \n",
      "                                                                 context_layer[1][0]              \n",
      "                                                                 post-attention-LSTM[0][0]        \n",
      "                                                                 post-attention-LSTM[0][2]        \n",
      "                                                                 context_layer[2][0]              \n",
      "                                                                 post-attention-LSTM[1][0]        \n",
      "                                                                 post-attention-LSTM[1][2]        \n",
      "                                                                 context_layer[3][0]              \n",
      "                                                                 post-attention-LSTM[2][0]        \n",
      "                                                                 post-attention-LSTM[2][2]        \n",
      "                                                                 context_layer[4][0]              \n",
      "                                                                 post-attention-LSTM[3][0]        \n",
      "                                                                 post-attention-LSTM[3][2]        \n",
      "                                                                 context_layer[5][0]              \n",
      "                                                                 post-attention-LSTM[4][0]        \n",
      "                                                                 post-attention-LSTM[4][2]        \n",
      "                                                                 context_layer[6][0]              \n",
      "                                                                 post-attention-LSTM[5][0]        \n",
      "                                                                 post-attention-LSTM[5][2]        \n",
      "                                                                 context_layer[7][0]              \n",
      "                                                                 post-attention-LSTM[6][0]        \n",
      "                                                                 post-attention-LSTM[6][2]        \n",
      "                                                                 context_layer[8][0]              \n",
      "                                                                 post-attention-LSTM[7][0]        \n",
      "                                                                 post-attention-LSTM[7][2]        \n",
      "                                                                 context_layer[9][0]              \n",
      "                                                                 post-attention-LSTM[8][0]        \n",
      "                                                                 post-attention-LSTM[8][2]        \n",
      "__________________________________________________________________________________________________\n",
      "softmax_output (Dense)          (None, 11)           1067        post-attention-LSTM[0][0]        \n",
      "                                                                 post-attention-LSTM[1][0]        \n",
      "                                                                 post-attention-LSTM[2][0]        \n",
      "                                                                 post-attention-LSTM[3][0]        \n",
      "                                                                 post-attention-LSTM[4][0]        \n",
      "                                                                 post-attention-LSTM[5][0]        \n",
      "                                                                 post-attention-LSTM[6][0]        \n",
      "                                                                 post-attention-LSTM[7][0]        \n",
      "                                                                 post-attention-LSTM[8][0]        \n",
      "                                                                 post-attention-LSTM[9][0]        \n",
      "==================================================================================================\n",
      "Total params: 110,517\n",
      "Trainable params: 110,517\n",
      "Non-trainable params: 0\n",
      "__________________________________________________________________________________________________\n"
     ]
    }
   ],
   "source": [
    "model = model(Tx, Ty, n_h, n_s, len(human_vocab), len(machine_vocab))\n",
    "model.summary()"
   ]
  },
  {
   "cell_type": "markdown",
   "metadata": {},
   "source": [
    "El modelo tiene 110517 parámetros. Se dividen a grandes rasgos en:\n",
    "- Bi-LSTM de entrada (33408)\n",
    "- Attention (1930)\n",
    "- LSTM de salida (74112)\n",
    "- Softmax output (1067)"
   ]
  },
  {
   "cell_type": "markdown",
   "metadata": {},
   "source": [
    "Definimos el algoritmo de optimización Adam siendo el la función objetivo la entropia sobre las 11 clases. Mostramos en cada iteración el accuracy sobre el conjunto de entrenamiento y validación."
   ]
  },
  {
   "cell_type": "code",
   "execution_count": 11,
   "metadata": {},
   "outputs": [],
   "source": [
    "opt = Adam(lr=0.005, decay=0.01)\n",
    "model.compile(optimizer=opt, loss='categorical_crossentropy', metrics=['accuracy'])"
   ]
  },
  {
   "cell_type": "markdown",
   "metadata": {},
   "source": [
    "Tomamos el hidden state, cell state de la post-attention LSTM como el vector de ceros. <p> Convertimos el output Y en un tensor de dimensiones `(Ty, m, len(machine_vocab))`"
   ]
  },
  {
   "cell_type": "code",
   "execution_count": 12,
   "metadata": {},
   "outputs": [],
   "source": [
    "s0 = np.zeros((m, n_s))\n",
    "c0 = np.zeros((m, n_s))\n",
    "outputs = list(Yoh.swapaxes(0,1))"
   ]
  },
  {
   "cell_type": "markdown",
   "metadata": {},
   "source": [
    "El modelo ha sido entrenado con 30 epochs y cada batch con 100 ejemplos de entrenamiento.\n",
    "El ordenador utilizado ha sido un CPU con 8GB de ram durante 20minutos.\n",
    "Para ahorrar tiempo ya tenemos los pesos guardados y se va a realizar sólo un epoch sobre los pesos ya entrenados."
   ]
  },
  {
   "cell_type": "code",
   "execution_count": 13,
   "metadata": {},
   "outputs": [],
   "source": [
    "# model.fit([Xoh, s0, c0], outputs, epochs=30, batch_size=100)\n",
    "# model.save_weights('models/weights_nmt.h5')"
   ]
  },
  {
   "cell_type": "code",
   "execution_count": 14,
   "metadata": {},
   "outputs": [],
   "source": [
    "model.load_weights('weights/weights_nmt.h5')"
   ]
  },
  {
   "cell_type": "code",
   "execution_count": 15,
   "metadata": {},
   "outputs": [],
   "source": [
    "# model.fit([Xoh, s0, c0], outputs, epochs=2, batch_size=50)"
   ]
  },
  {
   "cell_type": "markdown",
   "metadata": {},
   "source": [
    "Epoch 1/1\n",
    "20000/20000 [==============================] - 69s 3ms/step - loss: 1.1520 - softmax_output_loss: 0.2147 - softmax_output_acc: 0.9932 - softmax_output_acc_1: 0.9967 - softmax_output_acc_2: 0.9837 - softmax_output_acc_3: 0.9711 - softmax_output_acc_4: 0.9948 - softmax_output_acc_5: 0.9727 - softmax_output_acc_6: 0.9330 - softmax_output_acc_7: 0.9857 - softmax_output_acc_8: 0.9424 - softmax_output_acc_9: 0.9469"
   ]
  },
  {
   "cell_type": "markdown",
   "metadata": {},
   "source": [
    "## 2 - Aplicación del modelo sobre ejemplos"
   ]
  },
  {
   "cell_type": "code",
   "execution_count": 16,
   "metadata": {},
   "outputs": [
    {
     "name": "stdout",
     "output_type": "stream",
     "text": [
      "source: 3 May 1979\n",
      "output: 1979-05-03\n",
      "source: 5 April 2009\n",
      "output: 2009-04-05\n",
      "source: 21th of August 2016\n",
      "output: 2016-08-22\n",
      "source: 10 julio 2007\n",
      "output: 2007-07-10\n",
      "source: Saturday May 9 2018\n",
      "output: 2018-05-09\n",
      "source: March 3 2001\n",
      "output: 2001-03-03\n",
      "source: March 3rd 2001\n",
      "output: 2001-03-03\n",
      "source: 1 marzo 2001\n",
      "output: 2001-03-01\n"
     ]
    }
   ],
   "source": [
    "EXAMPLES = ['3 May 1979', '5 April 2009', '21th of August 2016', '10 julio 2007', \n",
    "            'Saturday May 9 2018', 'March 3 2001', 'March 3rd 2001', '1 marzo 2001']\n",
    "for example in EXAMPLES:\n",
    "    source = string_to_int(example, Tx, human_vocab)\n",
    "    source = np.array(list(map(lambda x: to_categorical(x, num_classes=len(human_vocab)), source)))# .swapaxes(0,1) # .T.reshape(1,28, 37)\n",
    "    #source = source.T.reshape(1, 28, 38)\n",
    "    source = source.reshape(1, 28, 38)\n",
    "    prediction = model.predict([source, s0, c0])\n",
    "    prediction = np.argmax(prediction, axis = -1)\n",
    "    output = [inv_machine_vocab[int(i)] for i in prediction]\n",
    "    \n",
    "    print(\"source:\", example)\n",
    "    print(\"output:\", ''.join(output))"
   ]
  },
  {
   "cell_type": "markdown",
   "metadata": {},
   "source": [
    "## 3. Visualizar los pesos de la atención"
   ]
  },
  {
   "cell_type": "markdown",
   "metadata": {},
   "source": [
    "Si observamos las capas de la red neuronal, la número 7 es la asociada a los pesos de la atención."
   ]
  },
  {
   "cell_type": "code",
   "execution_count": 17,
   "metadata": {},
   "outputs": [
    {
     "data": {
      "text/plain": [
       "[<keras.engine.input_layer.InputLayer at 0x7f00eeedbbe0>,\n",
       " <keras.engine.input_layer.InputLayer at 0x7f00eeedbf28>,\n",
       " <keras.layers.wrappers.Bidirectional at 0x7f00eeed75f8>,\n",
       " <keras.layers.core.RepeatVector at 0x7f00eeed7400>,\n",
       " <keras.layers.merge.Concatenate at 0x7f00eeed7438>,\n",
       " <keras.layers.core.Dense at 0x7f00eeed74e0>,\n",
       " <keras.layers.core.Dense at 0x7f00eeed74a8>,\n",
       " <keras.layers.core.Activation at 0x7f00eeed7630>,\n",
       " <keras.layers.merge.Dot at 0x7f00eeed7710>,\n",
       " <keras.engine.input_layer.InputLayer at 0x7f00eeedb390>,\n",
       " <keras.layers.recurrent.LSTM at 0x7f00eef1cd30>,\n",
       " <keras.layers.core.Dense at 0x7f00eeed7978>]"
      ]
     },
     "execution_count": 17,
     "metadata": {},
     "output_type": "execute_result"
    }
   ],
   "source": [
    "model.layers"
   ]
  },
  {
   "cell_type": "markdown",
   "metadata": {},
   "source": [
    "Podemos visualizar el valor de estos pesos ($\\alpha$) para distintos ejemplos."
   ]
  },
  {
   "cell_type": "code",
   "execution_count": 18,
   "metadata": {},
   "outputs": [
    {
     "data": {
      "image/png": "[encoded data removed]",
      "text/plain": [
       "<Figure size 576x612 with 2 Axes>"
      ]
     },
     "metadata": {},
     "output_type": "display_data"
    }
   ],
   "source": [
    "example = \"10 diciemb 2007\"\n",
    "attention_map = plot_attention_map(model=model, input_vocabulary=human_vocab, inv_output_vocabulary=inv_machine_vocab, \n",
    "                                   text=example, num_layer=7, n_s=n_s, Tx=Tx, Ty=Ty);"
   ]
  },
  {
   "cell_type": "code",
   "execution_count": 19,
   "metadata": {},
   "outputs": [
    {
     "data": {
      "image/png": "[encoded data removed]",
      "text/plain": [
       "<Figure size 576x612 with 2 Axes>"
      ]
     },
     "metadata": {},
     "output_type": "display_data"
    }
   ],
   "source": [
    "example = \"10 febrero 2007\"\n",
    "attention_map = plot_attention_map(model=model, input_vocabulary=human_vocab, inv_output_vocabulary=inv_machine_vocab, \n",
    "                                   text=example, num_layer=7, n_s=n_s, Tx=Tx, Ty=Ty);"
   ]
  },
  {
   "cell_type": "code",
   "execution_count": 20,
   "metadata": {},
   "outputs": [
    {
     "data": {
      "image/png": "[encoded data removed]",
      "text/plain": [
       "<Figure size 576x612 with 2 Axes>"
      ]
     },
     "metadata": {},
     "output_type": "display_data"
    }
   ],
   "source": [
    "example = \"10 marzo 2007\"\n",
    "attention_map = plot_attention_map(model=model, input_vocabulary=human_vocab, inv_output_vocabulary=inv_machine_vocab, \n",
    "                                   text=example, num_layer=7, n_s=n_s, Tx=Tx, Ty=Ty);"
   ]
  },
  {
   "cell_type": "code",
   "execution_count": 21,
   "metadata": {},
   "outputs": [
    {
     "data": {
      "image/png": "[encoded data removed]",
      "text/plain": [
       "<Figure size 576x612 with 2 Axes>"
      ]
     },
     "metadata": {},
     "output_type": "display_data"
    }
   ],
   "source": [
    "example = \"7 de octubre de 2018\"\n",
    "attention_map = plot_attention_map(model=model, input_vocabulary=human_vocab, inv_output_vocabulary=inv_machine_vocab, \n",
    "                                   text=example, num_layer=7, n_s=n_s, Tx=Tx, Ty=Ty);"
   ]
  },
  {
   "cell_type": "markdown",
   "metadata": {},
   "source": [
    "### References \n",
    "- I. Goodfellow, Y. Bengio, & A. Courville (2016). Deep Learning. MIT Press. http://www.deeplearningbook.org \n",
    "- A. Ng (2017). Deep Learning Specialization. Coursera. https://www.coursera.org/specializations/deep-learning \n",
    "- D. Bahdanau, K. Cho, and Y. Bengio (2014). Neural Machine Translation by Jointly Learning to Align and Translate. https://arxiv.org/abs/1409.0473\n",
    "- HSE (2018). Natual Language Processing. Coursera. https://www.coursera.org/learn/language-processing "
   ]
  }
 ],
 "metadata": {
  "kernelspec": {
   "display_name": "Python 3",
   "language": "python",
   "name": "python3"
  },
  "language_info": {
   "codemirror_mode": {
    "name": "ipython",
    "version": 3
   },
   "file_extension": ".py",
   "mimetype": "text/x-python",
   "name": "python",
   "nbconvert_exporter": "python",
   "pygments_lexer": "ipython3",
   "version": "3.6.5"
  }
 },
 "nbformat": 4,
 "nbformat_minor": 2
}
