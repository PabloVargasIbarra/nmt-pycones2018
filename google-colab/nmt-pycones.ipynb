{
  "nbformat": 4,
  "nbformat_minor": 0,
  "metadata": {
    "colab": {
      "name": "nmt-pycones.ipynb",
      "version": "0.3.2",
      "provenance": [],
      "collapsed_sections": []
    },
    "kernelspec": {
      "name": "python3",
      "display_name": "Python 3"
    },
    "accelerator": "GPU"
  },
  "cells": [
    {
      "metadata": {
        "id": "abQ_-CccPWjF",
        "colab_type": "text"
      },
      "cell_type": "markdown",
      "source": [
        "# Neural Machine Translation with Attention. PyconES 2018. <p>\n",
        " *Pablo Vargas Ibarra*\n"
      ]
    },
    {
      "metadata": {
        "id": "f-RGq0yVPu9b",
        "colab_type": "text"
      },
      "cell_type": "markdown",
      "source": [
        "Primero nos aseguramos que estamos utilizando Python 3 con GPU."
      ]
    },
    {
      "metadata": {
        "id": "Tm0_8VHYXALH",
        "colab_type": "code",
        "colab": {
          "base_uri": "https://localhost:8080/",
          "height": 35
        },
        "outputId": "9a530b34-5a16-4977-c949-d8190e4b992b"
      },
      "cell_type": "code",
      "source": [
        "import tensorflow as tf\n",
        "tf.test.gpu_device_name()"
      ],
      "execution_count": 1,
      "outputs": [
        {
          "output_type": "execute_result",
          "data": {
            "text/plain": [
              "'/device:GPU:0'"
            ]
          },
          "metadata": {
            "tags": []
          },
          "execution_count": 1
        }
      ]
    },
    {
      "metadata": {
        "id": "fna4g3zyPLps",
        "colab_type": "code",
        "colab": {
          "base_uri": "https://localhost:8080/",
          "height": 35
        },
        "outputId": "0a34bfe7-352a-4c3c-f1d8-66ca0fe24535"
      },
      "cell_type": "code",
      "source": [
        "import sys\n",
        "sys.version"
      ],
      "execution_count": 2,
      "outputs": [
        {
          "output_type": "execute_result",
          "data": {
            "text/plain": [
              "'3.6.3 (default, Oct  3 2017, 21:45:48) \\n[GCC 7.2.0]'"
            ]
          },
          "metadata": {
            "tags": []
          },
          "execution_count": 2
        }
      ]
    },
    {
      "metadata": {
        "id": "R_uLrDSdLKyL",
        "colab_type": "text"
      },
      "cell_type": "markdown",
      "source": [
        "Importamos los paquetes y cargamos las funciones necesarias paa el notebook."
      ]
    },
    {
      "metadata": {
        "id": "Ra3vl3WyLYoI",
        "colab_type": "code",
        "colab": {
          "base_uri": "https://localhost:8080/",
          "height": 55
        },
        "outputId": "4b3ee960-892c-48fe-b837-10d34d7b3cd2"
      },
      "cell_type": "code",
      "source": [
        "import warnings\n",
        "import numpy as np\n",
        "import urllib.request\n",
        "warnings.filterwarnings('ignore')\n",
        "from keras.layers import Bidirectional, Concatenate, Dot, Input, LSTM, RepeatVector, Dense, Activation\n",
        "from keras.optimizers import Adam\n",
        "from keras.activations import softmax\n",
        "from keras.utils import to_categorical\n",
        "from keras.models import load_model, Model\n",
        "import keras.backend as K\n",
        "import matplotlib.pyplot as plt"
      ],
      "execution_count": 3,
      "outputs": [
        {
          "output_type": "stream",
          "text": [
            "Using TensorFlow backend.\n"
          ],
          "name": "stderr"
        }
      ]
    },
    {
      "metadata": {
        "id": "gFtPLOczKEta",
        "colab_type": "code",
        "colab": {}
      },
      "cell_type": "code",
      "source": [
        "def load_npy_from_url(url):\n",
        "    \"\"\"\n",
        "    Converts all strings in the vocabulary into a list of integers representing the positions of the\n",
        "    input string's characters in the \"vocab\"\n",
        "    \n",
        "    Arguments:\n",
        "    url -- string input url\n",
        "    \n",
        "    Returns:\n",
        "    rep -- numpy array\n",
        "    \"\"\"\n",
        "    with urllib.request.urlopen(url) as url:\n",
        "        with open('tmp.npy', 'wb') as f:\n",
        "            f.write(url.read())\n",
        "    rep = np.load('tmp.npy')\n",
        "    return rep\n",
        "  \n",
        "\n",
        "def string_to_int(string, length, vocab):\n",
        "    \"\"\"\n",
        "    Converts all strings in the vocabulary into a list of integers representing the positions of the\n",
        "    input string's characters in the \"vocab\"\n",
        "    \n",
        "    Arguments:\n",
        "    string -- input string, e.g. 'Wed 10 Jul 2007'\n",
        "    length -- the number of time steps you'd like, determines if the output will be padded or cut\n",
        "    vocab -- vocabulary, dictionary used to index every character of your \"string\"\n",
        "    \n",
        "    Returns:\n",
        "    rep -- list of integers (or '<unk>') (size = length) representing the position of the string's character in the vocabulary\n",
        "    \"\"\"\n",
        "    \n",
        "    string = string.lower()\n",
        "    string = string.replace(',','')\n",
        "    \n",
        "    if len(string) > length:\n",
        "        string = string[:length]\n",
        "        \n",
        "    rep = list(map(lambda x: vocab.get(x, vocab['UNK']), string))\n",
        "    if len(string) < length:\n",
        "        rep += [vocab['#']] * (length - len(string))\n",
        "    return rep\n",
        "\n",
        "def int_to_string(ints, inv_vocab):\n",
        "    \"\"\"\n",
        "    Output a machine readable list of characters based on a list of indexes in the machine's vocabulary\n",
        "    \n",
        "    Arguments:\n",
        "    ints -- list of integers representing indexes in the machine's vocabulary\n",
        "    inv_vocab -- dictionary mapping machine readable indexes to machine readable characters \n",
        "    \n",
        "    Returns:\n",
        "    l -- list of characters corresponding to the indexes of ints thanks to the inv_vocab mapping\n",
        "    \"\"\"\n",
        "    \n",
        "    l = [inv_vocab[i] for i in ints]\n",
        "    return l\n",
        "\n",
        "def plot_attention_map(model, input_vocabulary, inv_output_vocabulary, text, n_s, num_layer, Tx, Ty):\n",
        "    \"\"\"\n",
        "    Plot the attention map.\n",
        "  \n",
        "    \"\"\"\n",
        "    attention_map = np.zeros((10, 28))\n",
        "    Ty, Tx = attention_map.shape\n",
        "    \n",
        "    s0 = np.zeros((1, n_s))\n",
        "    c0 = np.zeros((1, n_s))\n",
        "    layer = model.layers[num_layer]\n",
        "\n",
        "    encoded = np.array(string_to_int(text, Tx, input_vocabulary)).reshape((1, 28))\n",
        "    encoded = np.array(list(map(lambda x: to_categorical(x, num_classes=len(input_vocabulary)), encoded)))\n",
        "\n",
        "    f = K.function(model.inputs, [layer.get_output_at(t) for t in range(Ty)])\n",
        "    r = f([encoded, s0, c0])\n",
        "    \n",
        "    for t in range(Ty):\n",
        "        for t_prime in range(Tx):\n",
        "            attention_map[t][t_prime] = r[t][0,t_prime,0]\n",
        "\n",
        "    prediction = model.predict([encoded, s0, c0])\n",
        "    \n",
        "    predicted_text = []\n",
        "    for i in range(len(prediction)):\n",
        "        predicted_text.append(int(np.argmax(prediction[i], axis=-1)))\n",
        "        \n",
        "    predicted_text = list(predicted_text)\n",
        "    predicted_text = int_to_string(predicted_text, inv_output_vocabulary)\n",
        "    text_ = list(text)\n",
        "    \n",
        "    # get the lengths of the string\n",
        "    input_length = len(text)\n",
        "    output_length = Ty\n",
        "    \n",
        "    # Plot the attention_map\n",
        "    # plt.clf();\n",
        "    f = plt.figure(figsize=(8, 8.5));\n",
        "    ax = f.add_subplot(1, 1, 1);\n",
        "\n",
        "    # add image\n",
        "    i = ax.imshow(attention_map, interpolation='nearest', cmap=\"Greys\");\n",
        "\n",
        "    # add colorbar\n",
        "    # cbaxes = f.add_axes([0.2, 0, 0.6, 0.03])\n",
        "    cbaxes = f.add_axes([0.2, 0.1, 0.6, 0.2]);\n",
        "    cbar = f.colorbar(i, cax=cbaxes, orientation='horizontal');\n",
        "    cbar.ax.set_xlabel('Alpha value (Probability output of the \"softmax\")', labelpad=2);\n",
        "\n",
        "    # add labels\n",
        "    ax.set_yticks(range(output_length));\n",
        "    ax.set_yticklabels(predicted_text[:output_length]);\n",
        "\n",
        "    ax.set_xticks(range(input_length));\n",
        "    ax.set_xticklabels(text_[:input_length], rotation=45);\n",
        "\n",
        "    ax.set_xlabel('Input Sequence');\n",
        "    ax.set_ylabel('Output Sequence');\n",
        "\n",
        "    # add grid and legend\n",
        "    ax.grid();\n",
        "    return attention_map\n",
        "  "
      ],
      "execution_count": 0,
      "outputs": []
    },
    {
      "metadata": {
        "id": "xDPbanLAMCbm",
        "colab_type": "text"
      },
      "cell_type": "markdown",
      "source": [
        "## 1.Traducción de fechas en formato máquina"
      ]
    },
    {
      "metadata": {
        "id": "ke6iYoBIL95J",
        "colab_type": "text"
      },
      "cell_type": "markdown",
      "source": [
        "El modelo que se va a contruir puede ser utilizado para traducir de un lenguaje a otro, por ejemplo del inglés a francés. Sin embargo, la traducción de texto involucra la utilización de conjuntos de datos muy grandes y un tiempo largo de computo incluso utilizando GPUs. Se va a simplificar la traducción a sólo fechas con el objetivo de poder experimentar en un ordenador convencional. <p> <p>\n",
        "La red tomará como input fechas escritas con diferentes formatos (ej: \"the 29th of August 1958\", \"9 mayo 1998\", \"1998-05-09\") y traducirlas a su formato máquina asociado (YYYY-MM-DD)"
      ]
    },
    {
      "metadata": {
        "id": "Obl4nWGoMaxx",
        "colab_type": "text"
      },
      "cell_type": "markdown",
      "source": [
        "### 1.1 - Dataset"
      ]
    },
    {
      "metadata": {
        "id": "_pocnQ7rMdRq",
        "colab_type": "text"
      },
      "cell_type": "markdown",
      "source": [
        "Entrenaremos el modelo sobre un conjunto de datos con 20000 fechas sin formato definido a su equivalente en formato máquina. Aproximadamente 10000 están escritas en castellano y las otras 10000 en inglés. <p>\n",
        " Cargamos los siguientes datos ya calculados:\n",
        "- `dataset`: un array con  (fechas formato humano, fechas formato máquina)\n",
        "- `input_vocab`: diccionario en Python que mapea todos los caracteres del vocabulario humano a un valor entero\n",
        "- `output_vocab`: diccionario en Python que mapea todos los caracteres del vocabulario en formato fecha máquina a un valor entero\n",
        "- `inv_output_vocab`: el diccionario inverso a output_bocab\n",
        "- `X`: fechas en formato humano procesadas tal que cada caracter está mapeado al entero asociado en el vocabulario (input_vocab). Cada secuencia tiene una longitud aumentada con el caracter especial \"pad\" (#).\n",
        "- `Y`: fechas en formato humano procesadas de manera análoga utilizando su vocabulario (output_vocab). \n",
        "- `Xoh`: one-hot version de X.\n",
        "- `Yoh`: one-hot version de Y. "
      ]
    },
    {
      "metadata": {
        "id": "WA0RnkYlNjwq",
        "colab_type": "code",
        "colab": {
          "base_uri": "https://localhost:8080/",
          "height": 125
        },
        "outputId": "9b02146e-03de-4fac-af1c-335d7702e172"
      },
      "cell_type": "code",
      "source": [
        "dataset = load_npy_from_url('https://raw.github.com/PabloVargasIbarra/nmt-pycones2018/master/data/data.npy')\n",
        "print('Primeros 5 ejemplos de entrenamiento:')\n",
        "print(dataset[:5])\n",
        "X =  load_npy_from_url('https://raw.github.com/PabloVargasIbarra/nmt-pycones2018/master/data/Xt.npy')\n",
        "Y = load_npy_from_url('https://raw.github.com/PabloVargasIbarra/nmt-pycones2018/master/data/Yt.npy')"
      ],
      "execution_count": 5,
      "outputs": [
        {
          "output_type": "stream",
          "text": [
            "Primeros 5 ejemplos de entrenamiento:\n",
            "[['9 mayo 1998' '1998-05-09']\n",
            " ['10.09.70' '1970-09-10']\n",
            " ['4/28/90' '1990-04-28']\n",
            " ['jueves enero 26 1995' '1995-01-26']\n",
            " ['lunes marzo 7 1983' '1983-03-07']]\n"
          ],
          "name": "stdout"
        }
      ]
    },
    {
      "metadata": {
        "id": "0KxEKffiL78h",
        "colab_type": "code",
        "colab": {
          "base_uri": "https://localhost:8080/",
          "height": 89
        },
        "outputId": "77b24092-b0e3-4cb2-cf47-4a88e2f51bcf"
      },
      "cell_type": "code",
      "source": [
        "input_vocab = load_npy_from_url('https://raw.github.com/PabloVargasIbarra/nmt-pycones2018/master/data/X_tok2idx.npy').item()\n",
        "output_vocab = load_npy_from_url('https://raw.github.com/PabloVargasIbarra/nmt-pycones2018/master/data/Y_tok2idx.npy').item()\n",
        "inv_output_vocab = load_npy_from_url('https://raw.github.com/PabloVargasIbarra/nmt-pycones2018/master/data/Y_idx2tok.npy').item()\n",
        "Xoh = to_categorical(X, len(input_vocab))\n",
        "Yoh = to_categorical(Y, len(output_vocab))\n",
        "print(\"X.shape:\", X.shape)\n",
        "print(\"Y.shape:\", Y.shape)\n",
        "print(\"Xoh.shape:\", Xoh.shape)\n",
        "print(\"Yoh.shape:\", Yoh.shape)"
      ],
      "execution_count": 6,
      "outputs": [
        {
          "output_type": "stream",
          "text": [
            "X.shape: (20000, 28)\n",
            "Y.shape: (20000, 10)\n",
            "Xoh.shape: (20000, 28, 38)\n",
            "Yoh.shape: (20000, 10, 11)\n"
          ],
          "name": "stdout"
        }
      ]
    },
    {
      "metadata": {
        "id": "JFIK1c0gL24t",
        "colab_type": "code",
        "colab": {}
      },
      "cell_type": "code",
      "source": [
        "Tx = 28   # Tamaño de la secuencia de entrada\n",
        "Ty = 10   # Tamaño de la secuencia de salida\n",
        "m = 20000 # Número de ejemplos de entrenamiento"
      ],
      "execution_count": 0,
      "outputs": []
    },
    {
      "metadata": {
        "id": "8eRpQnLEOIK2",
        "colab_type": "text"
      },
      "cell_type": "markdown",
      "source": [
        "## 1.2 Neural machine translation model with attention"
      ]
    },
    {
      "metadata": {
        "id": "4RNGbDswOLfr",
        "colab_type": "text"
      },
      "cell_type": "markdown",
      "source": [
        "Supongamos que tenemos que traducir la secuencia, **\"jueves 26 de enero de 1995\"** a **\"1995-01-26\"**. Durante el proceso de lectura vamos enfocando la atención en partes de la secuencia de entrada para ir realizando la traducción en la secuencia de salida. El modelo que se implementa siguiente intenta simular este mecanismo de atención con la siguiente arquitectura de redes neuronales."
      ]
    },
    {
      "metadata": {
        "id": "afL8Ct4kOPrJ",
        "colab_type": "text"
      },
      "cell_type": "markdown",
      "source": [
        "![alt text](http://localhost:8888/files/nmt-pycones2018/nmt-images/attn.png)"
      ]
    },
    {
      "metadata": {
        "id": "l3odZYihOXnT",
        "colab_type": "text"
      },
      "cell_type": "markdown",
      "source": [
        "Las ecuaciones que definen el mecanismo de atención son las siguientes:\n",
        "$$e^{<i,j>} = v_{a}^{T}\\tanh\\big({W_{a}s_{i-1} + U_{a}h_{j}}\\big)$$ <p>\n",
        "$$\\alpha^{<i,j>} = \\dfrac{exp(e^{<i,j>})}{\\sum_{k=1}^{T_x}exp(e^{<i,k>})}$$ \n",
        "$$context^{<i>} = \\sum_{j = 0}^{T_x} \\alpha^{<i,j>}h^{<j>}$$\n",
        "<sub>**D. Bahdanau, K. Cho, and Y. Bengio. Neural Machine Translation by Jointly Learning to Align and Translate. (2014)**<sub>"
      ]
    },
    {
      "metadata": {
        "id": "s3pRyCfHOoJn",
        "colab_type": "text"
      },
      "cell_type": "markdown",
      "source": [
        "El contexto es una suma ponderada por los parámetros del modelo de atención de los \"hidden states\" de la bidireccional LSTM. Esto será el input de la LSTM final junto con el hidden, cell state de la anterior capa. Estos pesos deberán sumar uno y para ello utilizamos la función softmax propia siguiente:"
      ]
    },
    {
      "metadata": {
        "id": "aRbldud_OrKd",
        "colab_type": "code",
        "colab": {}
      },
      "cell_type": "code",
      "source": [
        "def softmax_attention(x, axis=1):\n",
        "    return softmax(x, axis=axis)"
      ],
      "execution_count": 0,
      "outputs": []
    },
    {
      "metadata": {
        "id": "LBd9H_YsOwCa",
        "colab_type": "text"
      },
      "cell_type": "markdown",
      "source": [
        "Las operaciones que se realizan para calcular las variables e pueden verse como capas densas de redes neuronales sin el termino \"bias\". Además de que para cada output puede vectorizarse la operación concatenando $s_{i-1}, h_{j}$ <p> Los parámetros asociados al modelo de atención serán compartidos por todas las capas, para ello utilizamos variables globales de Keras."
      ]
    },
    {
      "metadata": {
        "id": "zYqWRnBVOu4d",
        "colab_type": "code",
        "colab": {}
      },
      "cell_type": "code",
      "source": [
        "repeator = RepeatVector(Tx, name='repeat_s') \n",
        "concatenator = Concatenate(axis=-1, name='concat_s_h')\n",
        "tanh_layer = Dense(10, activation = \"tanh\", use_bias=False, name='tanh_layer')\n",
        "v_layer = Dense(1, activation = \"linear\", use_bias=False, \n",
        "                kernel_initializer=\"zeros\", name='v_layer')\n",
        "softmax_layer = Activation(softmax_attention, name='attention_weights') \n",
        "context_layer = Dot(axes = 1, name='context_layer')"
      ],
      "execution_count": 0,
      "outputs": []
    },
    {
      "metadata": {
        "id": "DLMTPcClPHi2",
        "colab_type": "code",
        "colab": {}
      },
      "cell_type": "code",
      "source": [
        "def one_step_attention(h, s_prev):\n",
        "    \"\"\"\n",
        "    Performs one step of attention: Outputs a context vector computed as a dot product of the attention weights\n",
        "    \"alphas\" and the hidden states \"a\" of the Bi-LSTM.\n",
        "    \n",
        "    Arguments:\n",
        "    a -- hidden state output of the Bi-LSTM, numpy-array of shape (m, Tx, 2*n_a)\n",
        "    s_prev -- previous hidden state of the (post-attention) LSTM, numpy-array of shape (m, n_s)\n",
        "    \n",
        "    Returns:\n",
        "    context -- context vector, input of the next (post-attetion) LSTM cell\n",
        "    \"\"\"\n",
        "    \n",
        "    s_prev = repeator(s_prev)\n",
        "    concat = concatenator([h, s_prev])\n",
        "    e = v_layer(tanh_layer(concat))\n",
        "    alphas = softmax_layer(e)\n",
        "    context = context_layer([alphas, h])\n",
        "    \n",
        "    return context"
      ],
      "execution_count": 0,
      "outputs": []
    },
    {
      "metadata": {
        "id": "EGIcrZFLQNkM",
        "colab_type": "text"
      },
      "cell_type": "markdown",
      "source": [
        "Creamos una función que genera el modelo completo."
      ]
    },
    {
      "metadata": {
        "id": "IH5-YaQ9QRex",
        "colab_type": "code",
        "colab": {}
      },
      "cell_type": "code",
      "source": [
        "def model(Tx, Ty, n_h, n_s, input_vocab_size, output_vocab_size):\n",
        "    \"\"\"\n",
        "    Arguments:\n",
        "    Tx -- length of the input sequence\n",
        "    Ty -- length of the output sequence\n",
        "    n_a -- hidden state size of the Bi-LSTM\n",
        "    n_s -- hidden state size of the post-attention LSTM\n",
        "    human_vocab_size -- size of the python dictionary \"human_vocab\"\n",
        "    machine_vocab_size -- size of the python dictionary \"machine_vocab\"\n",
        "\n",
        "    Returns:\n",
        "    model -- Keras model instance\n",
        "    \"\"\"\n",
        "    \n",
        "    # Inicializamos los valoes de entrada de la post_attention_LSTM\n",
        "    X = Input(shape=(Tx, input_vocab_size), name='input_X')\n",
        "    s0 = Input(shape=(n_s,), name='s0')\n",
        "    c0 = Input(shape=(n_s,), name='c0')\n",
        "    s = s0\n",
        "    c = c0\n",
        "    \n",
        "    # Outputs del modelo\n",
        "    outputs = []\n",
        "    \n",
        "    # Creamos cada una de las capas de la red neuronal\n",
        "    pre_attention_BiLSTM_cell = Bidirectional(LSTM(n_h, return_sequences=True))\n",
        "    post_attention_LSTM_cell = LSTM(n_s, return_state = True, name='post-attention-LSTM')\n",
        "    output_layer = Dense(output_vocab_size, activation='softmax', name='softmax_output')\n",
        "    \n",
        "    \n",
        "    # Primera capa que recibe como input el vector X,\n",
        "    h = pre_attention_BiLSTM_cell(X)\n",
        "    \n",
        "    # Iteramos sobre la secencia del output para calcular el contexto y el output.\n",
        "    for t in range(0, Ty):\n",
        "        \n",
        "        context = one_step_attention(h, s)\n",
        "        s, _, c = post_attention_LSTM_cell(context, initial_state=[s, c])\n",
        "        out = output_layer(s)\n",
        "        outputs.append(out)\n",
        "    \n",
        "    # Creamos el modelo pasandole como argumento los inputs y los outputs\n",
        "    model = Model(inputs=[X, s0, c0], outputs = outputs)\n",
        "    \n",
        "    return model"
      ],
      "execution_count": 0,
      "outputs": []
    },
    {
      "metadata": {
        "id": "bXZdurB6SYtE",
        "colab_type": "text"
      },
      "cell_type": "markdown",
      "source": [
        "Definimos el modelo y sus hiperparámetros. Mostramos el resumen de cada una de las capas y sus dimensiones."
      ]
    },
    {
      "metadata": {
        "id": "jlCPKnMwSX7X",
        "colab_type": "code",
        "colab": {
          "base_uri": "https://localhost:8080/",
          "height": 2591
        },
        "outputId": "20b2efa4-32c8-4b9e-bde9-b3d40e772db3"
      },
      "cell_type": "code",
      "source": [
        "n_h = 48 # Número de hidden units cada una de las dos pre-attention pertenecientes a la BiLSTM.\n",
        "n_s = 96   # Número de hidden units de la post-attention LSTM\n",
        "model = model(Tx, Ty, n_h, n_s, len(input_vocab), len(output_vocab))\n",
        "model.summary()"
      ],
      "execution_count": 12,
      "outputs": [
        {
          "output_type": "stream",
          "text": [
            "__________________________________________________________________________________________________\n",
            "Layer (type)                    Output Shape         Param #     Connected to                     \n",
            "==================================================================================================\n",
            "input_X (InputLayer)            (None, 28, 38)       0                                            \n",
            "__________________________________________________________________________________________________\n",
            "s0 (InputLayer)                 (None, 96)           0                                            \n",
            "__________________________________________________________________________________________________\n",
            "bidirectional_1 (Bidirectional) (None, 28, 96)       33408       input_X[0][0]                    \n",
            "__________________________________________________________________________________________________\n",
            "repeat_s (RepeatVector)         (None, 28, 96)       0           s0[0][0]                         \n",
            "                                                                 post-attention-LSTM[0][0]        \n",
            "                                                                 post-attention-LSTM[1][0]        \n",
            "                                                                 post-attention-LSTM[2][0]        \n",
            "                                                                 post-attention-LSTM[3][0]        \n",
            "                                                                 post-attention-LSTM[4][0]        \n",
            "                                                                 post-attention-LSTM[5][0]        \n",
            "                                                                 post-attention-LSTM[6][0]        \n",
            "                                                                 post-attention-LSTM[7][0]        \n",
            "                                                                 post-attention-LSTM[8][0]        \n",
            "__________________________________________________________________________________________________\n",
            "concat_s_h (Concatenate)        (None, 28, 192)      0           bidirectional_1[0][0]            \n",
            "                                                                 repeat_s[0][0]                   \n",
            "                                                                 bidirectional_1[0][0]            \n",
            "                                                                 repeat_s[1][0]                   \n",
            "                                                                 bidirectional_1[0][0]            \n",
            "                                                                 repeat_s[2][0]                   \n",
            "                                                                 bidirectional_1[0][0]            \n",
            "                                                                 repeat_s[3][0]                   \n",
            "                                                                 bidirectional_1[0][0]            \n",
            "                                                                 repeat_s[4][0]                   \n",
            "                                                                 bidirectional_1[0][0]            \n",
            "                                                                 repeat_s[5][0]                   \n",
            "                                                                 bidirectional_1[0][0]            \n",
            "                                                                 repeat_s[6][0]                   \n",
            "                                                                 bidirectional_1[0][0]            \n",
            "                                                                 repeat_s[7][0]                   \n",
            "                                                                 bidirectional_1[0][0]            \n",
            "                                                                 repeat_s[8][0]                   \n",
            "                                                                 bidirectional_1[0][0]            \n",
            "                                                                 repeat_s[9][0]                   \n",
            "__________________________________________________________________________________________________\n",
            "tanh_layer (Dense)              (None, 28, 10)       1920        concat_s_h[0][0]                 \n",
            "                                                                 concat_s_h[1][0]                 \n",
            "                                                                 concat_s_h[2][0]                 \n",
            "                                                                 concat_s_h[3][0]                 \n",
            "                                                                 concat_s_h[4][0]                 \n",
            "                                                                 concat_s_h[5][0]                 \n",
            "                                                                 concat_s_h[6][0]                 \n",
            "                                                                 concat_s_h[7][0]                 \n",
            "                                                                 concat_s_h[8][0]                 \n",
            "                                                                 concat_s_h[9][0]                 \n",
            "__________________________________________________________________________________________________\n",
            "v_layer (Dense)                 (None, 28, 1)        10          tanh_layer[0][0]                 \n",
            "                                                                 tanh_layer[1][0]                 \n",
            "                                                                 tanh_layer[2][0]                 \n",
            "                                                                 tanh_layer[3][0]                 \n",
            "                                                                 tanh_layer[4][0]                 \n",
            "                                                                 tanh_layer[5][0]                 \n",
            "                                                                 tanh_layer[6][0]                 \n",
            "                                                                 tanh_layer[7][0]                 \n",
            "                                                                 tanh_layer[8][0]                 \n",
            "                                                                 tanh_layer[9][0]                 \n",
            "__________________________________________________________________________________________________\n",
            "attention_weights (Activation)  (None, 28, 1)        0           v_layer[0][0]                    \n",
            "                                                                 v_layer[1][0]                    \n",
            "                                                                 v_layer[2][0]                    \n",
            "                                                                 v_layer[3][0]                    \n",
            "                                                                 v_layer[4][0]                    \n",
            "                                                                 v_layer[5][0]                    \n",
            "                                                                 v_layer[6][0]                    \n",
            "                                                                 v_layer[7][0]                    \n",
            "                                                                 v_layer[8][0]                    \n",
            "                                                                 v_layer[9][0]                    \n",
            "__________________________________________________________________________________________________\n",
            "context_layer (Dot)             (None, 1, 96)        0           attention_weights[0][0]          \n",
            "                                                                 bidirectional_1[0][0]            \n",
            "                                                                 attention_weights[1][0]          \n",
            "                                                                 bidirectional_1[0][0]            \n",
            "                                                                 attention_weights[2][0]          \n",
            "                                                                 bidirectional_1[0][0]            \n",
            "                                                                 attention_weights[3][0]          \n",
            "                                                                 bidirectional_1[0][0]            \n",
            "                                                                 attention_weights[4][0]          \n",
            "                                                                 bidirectional_1[0][0]            \n",
            "                                                                 attention_weights[5][0]          \n",
            "                                                                 bidirectional_1[0][0]            \n",
            "                                                                 attention_weights[6][0]          \n",
            "                                                                 bidirectional_1[0][0]            \n",
            "                                                                 attention_weights[7][0]          \n",
            "                                                                 bidirectional_1[0][0]            \n",
            "                                                                 attention_weights[8][0]          \n",
            "                                                                 bidirectional_1[0][0]            \n",
            "                                                                 attention_weights[9][0]          \n",
            "                                                                 bidirectional_1[0][0]            \n",
            "__________________________________________________________________________________________________\n",
            "c0 (InputLayer)                 (None, 96)           0                                            \n",
            "__________________________________________________________________________________________________\n",
            "post-attention-LSTM (LSTM)      [(None, 96), (None,  74112       context_layer[0][0]              \n",
            "                                                                 s0[0][0]                         \n",
            "                                                                 c0[0][0]                         \n",
            "                                                                 context_layer[1][0]              \n",
            "                                                                 post-attention-LSTM[0][0]        \n",
            "                                                                 post-attention-LSTM[0][2]        \n",
            "                                                                 context_layer[2][0]              \n",
            "                                                                 post-attention-LSTM[1][0]        \n",
            "                                                                 post-attention-LSTM[1][2]        \n",
            "                                                                 context_layer[3][0]              \n",
            "                                                                 post-attention-LSTM[2][0]        \n",
            "                                                                 post-attention-LSTM[2][2]        \n",
            "                                                                 context_layer[4][0]              \n",
            "                                                                 post-attention-LSTM[3][0]        \n",
            "                                                                 post-attention-LSTM[3][2]        \n",
            "                                                                 context_layer[5][0]              \n",
            "                                                                 post-attention-LSTM[4][0]        \n",
            "                                                                 post-attention-LSTM[4][2]        \n",
            "                                                                 context_layer[6][0]              \n",
            "                                                                 post-attention-LSTM[5][0]        \n",
            "                                                                 post-attention-LSTM[5][2]        \n",
            "                                                                 context_layer[7][0]              \n",
            "                                                                 post-attention-LSTM[6][0]        \n",
            "                                                                 post-attention-LSTM[6][2]        \n",
            "                                                                 context_layer[8][0]              \n",
            "                                                                 post-attention-LSTM[7][0]        \n",
            "                                                                 post-attention-LSTM[7][2]        \n",
            "                                                                 context_layer[9][0]              \n",
            "                                                                 post-attention-LSTM[8][0]        \n",
            "                                                                 post-attention-LSTM[8][2]        \n",
            "__________________________________________________________________________________________________\n",
            "softmax_output (Dense)          (None, 11)           1067        post-attention-LSTM[0][0]        \n",
            "                                                                 post-attention-LSTM[1][0]        \n",
            "                                                                 post-attention-LSTM[2][0]        \n",
            "                                                                 post-attention-LSTM[3][0]        \n",
            "                                                                 post-attention-LSTM[4][0]        \n",
            "                                                                 post-attention-LSTM[5][0]        \n",
            "                                                                 post-attention-LSTM[6][0]        \n",
            "                                                                 post-attention-LSTM[7][0]        \n",
            "                                                                 post-attention-LSTM[8][0]        \n",
            "                                                                 post-attention-LSTM[9][0]        \n",
            "==================================================================================================\n",
            "Total params: 110,517\n",
            "Trainable params: 110,517\n",
            "Non-trainable params: 0\n",
            "__________________________________________________________________________________________________\n"
          ],
          "name": "stdout"
        }
      ]
    },
    {
      "metadata": {
        "id": "qLA14x9ESrPK",
        "colab_type": "text"
      },
      "cell_type": "markdown",
      "source": [
        "El modelo tiene 110517 parámetros. Se dividen a grandes rasgos en:\n",
        "- Bi-LSTM de entrada (33408)\n",
        "- Attention (1930)\n",
        "- LSTM de salida (74112)\n",
        "- Softmax output (1067)"
      ]
    },
    {
      "metadata": {
        "id": "BfI4mpP_SuP4",
        "colab_type": "text"
      },
      "cell_type": "markdown",
      "source": [
        "Aplicaremos el algoritmo de optimización Adam siendo la función objetivo la entropia sobre las 11 clases. Mostramos en cada iteración la métrica \"accuracy\"."
      ]
    },
    {
      "metadata": {
        "id": "DWU0EMRCTErV",
        "colab_type": "code",
        "colab": {}
      },
      "cell_type": "code",
      "source": [
        "opt = Adam(lr=0.005, decay=0.01)\n",
        "model.compile(optimizer=opt, loss='categorical_crossentropy', metrics=['accuracy'])"
      ],
      "execution_count": 0,
      "outputs": []
    },
    {
      "metadata": {
        "id": "F6kDcWkBTPa7",
        "colab_type": "text"
      },
      "cell_type": "markdown",
      "source": [
        "Tomamos el hidden state, cell state de la post-attention LSTM como el vector de ceros. <p> Convertimos el output Y en un tensor de dimensiones `(Ty, m, len(output_vocab))`"
      ]
    },
    {
      "metadata": {
        "id": "-YgOoifTTU-B",
        "colab_type": "code",
        "colab": {}
      },
      "cell_type": "code",
      "source": [
        "s0 = np.zeros((m, n_s))\n",
        "c0 = np.zeros((m, n_s))\n",
        "outputs = list(Yoh.swapaxes(0,1))"
      ],
      "execution_count": 0,
      "outputs": []
    },
    {
      "metadata": {
        "id": "vjt1V7LrTZ94",
        "colab_type": "text"
      },
      "cell_type": "markdown",
      "source": [
        "El modelo ha sido entrenado durante 20 epochs y cada batch tiene 100 ejemplos de entrenamiento. <p>\n",
        "La máquina consta de una GPU \"K80\" (Google Colab). El entrenamiento dura unos 15 minutos.\n",
        " Para ahorrar tiempo cargamos unos pesos ya entrenados."
      ]
    },
    {
      "metadata": {
        "id": "StLRufAYmjZ6",
        "colab_type": "code",
        "colab": {}
      },
      "cell_type": "code",
      "source": [
        "# Codigo para entrenar el modelo\n",
        "\n",
        "# model.fit([Xoh, s0, c0], outputs, epochs=20, batch_size=100) # Código para entrenar el modelo"
      ],
      "execution_count": 0,
      "outputs": []
    },
    {
      "metadata": {
        "id": "eZT_zo7tTcu2",
        "colab_type": "code",
        "colab": {}
      },
      "cell_type": "code",
      "source": [
        "# Cargamos los pesos\n",
        "\n",
        "url = 'https://raw.github.com/PabloVargasIbarra/nmt-pycones2018/master/weights/weights_nmt.h5'\n",
        "with urllib.request.urlopen(url) as url:\n",
        "        with open('weights.h5', 'wb') as f:\n",
        "            f.write(url.read())\n",
        "model.load_weights('weights.h5')"
      ],
      "execution_count": 0,
      "outputs": []
    },
    {
      "metadata": {
        "id": "VLYmL_5QY2kK",
        "colab_type": "text"
      },
      "cell_type": "markdown",
      "source": [
        "## 2.Aplicación del modelo sobre ejemplos"
      ]
    },
    {
      "metadata": {
        "id": "fjZo8KBUYyqG",
        "colab_type": "code",
        "colab": {
          "base_uri": "https://localhost:8080/",
          "height": 305
        },
        "outputId": "10a57c75-b9c9-40e5-d882-a62eef438eda"
      },
      "cell_type": "code",
      "source": [
        "EXAMPLES = ['3 May 1979', '5 April 2009', '21th of August 2016', '10 julio 2007', \n",
        "            'Saturday May 9 2018', 'March 3 2001', 'March 3rd 2001', '1 marzo 2001']\n",
        "for example in EXAMPLES:\n",
        "    source = string_to_int(example, Tx, input_vocab)\n",
        "    source = np.array(list(map(lambda x: to_categorical(x, num_classes=len(input_vocab)), source)))\n",
        "    source = source.reshape(1, 28, 38)\n",
        "    prediction = model.predict([source, s0, c0])\n",
        "    prediction = np.argmax(prediction, axis = -1)\n",
        "    output = [inv_output_vocab[int(i)] for i in prediction]\n",
        "    \n",
        "    print(\"source:\", example)\n",
        "    print(\"output:\", ''.join(output))"
      ],
      "execution_count": 16,
      "outputs": [
        {
          "output_type": "stream",
          "text": [
            "source: 3 May 1979\n",
            "output: 1979-05-03\n",
            "source: 5 April 2009\n",
            "output: 2009-04-05\n",
            "source: 21th of August 2016\n",
            "output: 2016-08-22\n",
            "source: 10 julio 2007\n",
            "output: 2007-07-10\n",
            "source: Saturday May 9 2018\n",
            "output: 2018-05-09\n",
            "source: March 3 2001\n",
            "output: 2001-03-03\n",
            "source: March 3rd 2001\n",
            "output: 2001-03-03\n",
            "source: 1 marzo 2001\n",
            "output: 2001-03-01\n"
          ],
          "name": "stdout"
        }
      ]
    },
    {
      "metadata": {
        "id": "FdJTykY_beC7",
        "colab_type": "text"
      },
      "cell_type": "markdown",
      "source": [
        "## 3. Visualizar los pesos de la atención"
      ]
    },
    {
      "metadata": {
        "id": "OdvDDL4Ebs8e",
        "colab_type": "text"
      },
      "cell_type": "markdown",
      "source": [
        "Si observamos las capas de la red neuronal, la número 7 es la asociada a los pesos de la atención."
      ]
    },
    {
      "metadata": {
        "id": "L8GMcYNxTXxL",
        "colab_type": "code",
        "colab": {
          "base_uri": "https://localhost:8080/",
          "height": 233
        },
        "outputId": "454921a1-0eea-49ca-f8bd-574409d8964c"
      },
      "cell_type": "code",
      "source": [
        "model.layers"
      ],
      "execution_count": 17,
      "outputs": [
        {
          "output_type": "execute_result",
          "data": {
            "text/plain": [
              "[<keras.engine.topology.InputLayer at 0x7f3e202f0278>,\n",
              " <keras.engine.topology.InputLayer at 0x7f3e93926160>,\n",
              " <keras.layers.wrappers.Bidirectional at 0x7f3e202e3b00>,\n",
              " <keras.layers.core.RepeatVector at 0x7f3e202f0f28>,\n",
              " <keras.layers.merge.Concatenate at 0x7f3e202f0c50>,\n",
              " <keras.layers.core.Dense at 0x7f3e202e3198>,\n",
              " <keras.layers.core.Dense at 0x7f3e202e3320>,\n",
              " <keras.layers.core.Activation at 0x7f3e202e3470>,\n",
              " <keras.layers.merge.Dot at 0x7f3e202e3438>,\n",
              " <keras.engine.topology.InputLayer at 0x7f3e202e35f8>,\n",
              " <keras.layers.recurrent.LSTM at 0x7f3e202e3ba8>,\n",
              " <keras.layers.core.Dense at 0x7f3e202d12b0>]"
            ]
          },
          "metadata": {
            "tags": []
          },
          "execution_count": 17
        }
      ]
    },
    {
      "metadata": {
        "id": "28FvWP8Ob1V4",
        "colab_type": "code",
        "colab": {
          "base_uri": "https://localhost:8080/",
          "height": 386
        },
        "outputId": "9f1f83c6-68ab-4bf8-acd7-dde1d8b9bf22"
      },
      "cell_type": "code",
      "source": [
        "example = \"11 diciemb 2007\"\n",
        "attention_map = plot_attention_map(model=model, input_vocabulary=input_vocab, inv_output_vocabulary=inv_output_vocab, \n",
        "                                   text=example, num_layer=7, n_s=n_s, Tx=Tx, Ty=Ty);"
      ],
      "execution_count": 18,
      "outputs": [
        {
          "output_type": "display_data",
          "data": {
            "image/png": "[encoded data removed]",
            "text/plain": [
              "<matplotlib.figure.Figure at 0x7f3e3bd7fb38>"
            ]
          },
          "metadata": {
            "tags": []
          }
        }
      ]
    },
    {
      "metadata": {
        "id": "9z1oAtgUk7Bz",
        "colab_type": "code",
        "colab": {
          "base_uri": "https://localhost:8080/",
          "height": 386
        },
        "outputId": "f4eb7bb6-ad76-4197-90f5-a1a73aeabd18"
      },
      "cell_type": "code",
      "source": [
        "example = \"10 de febrero de 2011\"\n",
        "attention_map = plot_attention_map(model=model, input_vocabulary=input_vocab, inv_output_vocabulary=inv_output_vocab, \n",
        "                                   text=example, num_layer=7, n_s=n_s, Tx=Tx, Ty=Ty);"
      ],
      "execution_count": 19,
      "outputs": [
        {
          "output_type": "display_data",
          "data": {
            "image/png": "[encoded data removed]",
            "text/plain": [
              "<matplotlib.figure.Figure at 0x7f3e0ad165f8>"
            ]
          },
          "metadata": {
            "tags": []
          }
        }
      ]
    },
    {
      "metadata": {
        "id": "jhQxptLRdqoK",
        "colab_type": "text"
      },
      "cell_type": "markdown",
      "source": [
        "### References \n",
        "- I. Goodfellow, Y. Bengio, & A. Courville (2016). Deep Learning. MIT Press. http://www.deeplearningbook.org \n",
        "- A. Ng (2017). Deep Learning Specialization. Coursera. https://www.coursera.org/specializations/deep-learning \n",
        "- D. Bahdanau, K. Cho, and Y. Bengio (2014). Neural Machine Translation by Jointly Learning to Align and Translate. https://arxiv.org/abs/1409.0473\n",
        "- HSE (2018). Natual Language Processing. Coursera. https://www.coursera.org/learn/language-processing \n",
        "- Fast.ai Lesson 1 on Google Colab. https://www.kdnuggets.com/2018/02/fast-ai-lesson-1-google-colab-free-gpu.html\n",
        "- Google Colab Free GPU Tutorial. https://medium.com/deep-learning-turkey/google-colab-free-gpu-tutorial-e113627b9f5d"
      ]
    }
  ]
}